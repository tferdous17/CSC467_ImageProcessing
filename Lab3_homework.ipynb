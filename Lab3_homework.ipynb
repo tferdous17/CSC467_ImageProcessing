{
  "cells": [
    {
      "cell_type": "markdown",
      "metadata": {
        "id": "1961b0ac-e3c0-4589-ae40-66700357b003"
      },
      "source": [
        "<p>\n",
        "\n",
        "</p>\n"
      ]
    },
    {
      "cell_type": "markdown",
      "metadata": {
        "id": "5a853202-ca82-455d-9416-464500101f4c"
      },
      "source": [
        "**<h1> Manipulating Images </h1>**\n"
      ]
    },
    {
      "cell_type": "markdown",
      "metadata": {
        "id": "836b7624-955e-4030-972f-e2076f7b085f"
      },
      "source": [
        "Estimated time needed: **30** minutes\n"
      ]
    },
    {
      "cell_type": "markdown",
      "metadata": {
        "id": "9e07174c-66f3-4366-8adc-f2f6fc49d3fe"
      },
      "source": [
        "<h2>Objectives</h2>\n"
      ]
    },
    {
      "cell_type": "markdown",
      "metadata": {
        "id": "7d770951-4f4d-4be3-985d-6ef6f0982c73"
      },
      "source": [
        "In this lab, you will learn how to manipulate images, OpenCV image Arrays. You will learn how to copy an image to avoid aliasing. We will cover flipping images and cropping images. You will also learn to change pixel images; this will allow you to draw shapes, write text and superimpose images over other images.\n"
      ]
    },
    {
      "cell_type": "markdown",
      "metadata": {
        "id": "b63677db-667f-404d-97d2-a459a1b77be5"
      },
      "source": [
        "<ul>\n",
        "    <li><a href='#MI'>Manipulating Images </a>\n",
        "        <ul>\n",
        "            <li>Copying Images  </li>\n",
        "            <li>Fliping Images </li>\n",
        "            <li>Cropping an Image </li>\n",
        "            <li>Changing Specific Image Pixels </li>\n",
        "     \n",
        "  \n",
        "    \n",
        "</ul>\n"
      ]
    },
    {
      "cell_type": "markdown",
      "metadata": {
        "id": "66321b97-4638-478f-83bf-ef1ef95ed889"
      },
      "source": [
        "----\n"
      ]
    },
    {
      "cell_type": "markdown",
      "metadata": {
        "id": "d7c53e4f-63b1-476f-bcf1-04dca8d6a53a"
      },
      "source": [
        "Download the images for the lab\n"
      ]
    },
    {
      "cell_type": "markdown",
      "metadata": {
        "id": "bf21878b-7ea8-49d5-949a-a3632059aeac"
      },
      "source": [
        "We will be using these imported functions in the lab\n"
      ]
    },
    {
      "cell_type": "markdown",
      "source": [],
      "metadata": {
        "id": "DDEo45FlJTVG"
      }
    },
    {
      "cell_type": "code",
      "metadata": {
        "id": "d42fb7b5-2563-484f-aa77-13a2640cf320"
      },
      "outputs": [],
      "source": [
        "import matplotlib.pyplot as plt\n",
        "import cv2\n",
        "import numpy as np"
      ],
      "execution_count": 1
    },
    {
      "cell_type": "markdown",
      "metadata": {
        "id": "74ebb585-173b-465e-ae1a-d19585fa02c0"
      },
      "source": [
        "## Copying Images\n"
      ]
    },
    {
      "cell_type": "markdown",
      "metadata": {
        "id": "7dcca005-a115-4d3a-86b2-d57a1066990d"
      },
      "source": [
        "If you want to reassign an array to another variable, you should use the `copy` method. If we do not apply the method `copy()`, the variable will point to the same location in memory. Consider the following array:\n"
      ]
    },
    {
      "cell_type": "code",
      "metadata": {
        "id": "ac1a4e68-fe39-4d67-a19e-84fb8912e678",
        "outputId": "e6841bd6-fe11-4a1a-c0a6-38e3a0c022f6",
        "colab": {
          "base_uri": "https://localhost:8080/",
          "height": 216
        }
      },
      "outputs": [
        {
          "output_type": "error",
          "ename": "error",
          "evalue": "OpenCV(4.11.0) /io/opencv/modules/imgproc/src/color.cpp:199: error: (-215:Assertion failed) !_src.empty() in function 'cvtColor'\n",
          "traceback": [
            "\u001b[0;31m---------------------------------------------------------------------------\u001b[0m",
            "\u001b[0;31merror\u001b[0m                                     Traceback (most recent call last)",
            "\u001b[0;32m<ipython-input-3-f2c8c26081d8>\u001b[0m in \u001b[0;36m<cell line: 0>\u001b[0;34m()\u001b[0m\n\u001b[1;32m      1\u001b[0m \u001b[0mbaboon\u001b[0m \u001b[0;34m=\u001b[0m \u001b[0mcv2\u001b[0m\u001b[0;34m.\u001b[0m\u001b[0mimread\u001b[0m\u001b[0;34m(\u001b[0m\u001b[0;34m\"./baboon.png\"\u001b[0m\u001b[0;34m)\u001b[0m\u001b[0;34m\u001b[0m\u001b[0;34m\u001b[0m\u001b[0m\n\u001b[1;32m      2\u001b[0m \u001b[0mplt\u001b[0m\u001b[0;34m.\u001b[0m\u001b[0mfigure\u001b[0m\u001b[0;34m(\u001b[0m\u001b[0mfigsize\u001b[0m\u001b[0;34m=\u001b[0m\u001b[0;34m(\u001b[0m\u001b[0;36m10\u001b[0m\u001b[0;34m,\u001b[0m\u001b[0;36m10\u001b[0m\u001b[0;34m)\u001b[0m\u001b[0;34m)\u001b[0m\u001b[0;34m\u001b[0m\u001b[0;34m\u001b[0m\u001b[0m\n\u001b[0;32m----> 3\u001b[0;31m \u001b[0mplt\u001b[0m\u001b[0;34m.\u001b[0m\u001b[0mimshow\u001b[0m\u001b[0;34m(\u001b[0m\u001b[0mcv2\u001b[0m\u001b[0;34m.\u001b[0m\u001b[0mcvtColor\u001b[0m\u001b[0;34m(\u001b[0m\u001b[0mbaboon\u001b[0m\u001b[0;34m,\u001b[0m \u001b[0mcv2\u001b[0m\u001b[0;34m.\u001b[0m\u001b[0mCOLOR_BGR2RGB\u001b[0m\u001b[0;34m)\u001b[0m\u001b[0;34m)\u001b[0m\u001b[0;34m\u001b[0m\u001b[0;34m\u001b[0m\u001b[0m\n\u001b[0m\u001b[1;32m      4\u001b[0m \u001b[0mplt\u001b[0m\u001b[0;34m.\u001b[0m\u001b[0mshow\u001b[0m\u001b[0;34m(\u001b[0m\u001b[0;34m)\u001b[0m\u001b[0;34m\u001b[0m\u001b[0;34m\u001b[0m\u001b[0m\n",
            "\u001b[0;31merror\u001b[0m: OpenCV(4.11.0) /io/opencv/modules/imgproc/src/color.cpp:199: error: (-215:Assertion failed) !_src.empty() in function 'cvtColor'\n"
          ]
        },
        {
          "output_type": "display_data",
          "data": {
            "text/plain": [
              "<Figure size 1000x1000 with 0 Axes>"
            ]
          },
          "metadata": {}
        }
      ],
      "source": [
        "baboon = cv2.imread(\"./baboon.png\")\n",
        "plt.figure(figsize=(10,10))\n",
        "plt.imshow(cv2.cvtColor(baboon, cv2.COLOR_BGR2RGB))\n",
        "plt.show()"
      ],
      "execution_count": 3
    },
    {
      "cell_type": "markdown",
      "metadata": {
        "id": "b007aeef-f9f9-46b8-94b7-7db5e9342f28"
      },
      "source": [
        "If we do not apply the method `copy()`, the new variable will point to the same location in memory:\n"
      ]
    },
    {
      "cell_type": "code",
      "metadata": {
        "id": "0e5ddc95-129b-4200-9d29-9ca2747a42d3"
      },
      "outputs": [],
      "source": [
        "A = baboon"
      ],
      "execution_count": 4
    },
    {
      "cell_type": "markdown",
      "metadata": {
        "id": "004a8143-c011-45be-b23c-3c4603b06194"
      },
      "source": [
        "we use the `id` function to find the object's memory address; we see it is the same as the original array.\n"
      ]
    },
    {
      "cell_type": "code",
      "metadata": {
        "id": "cfe5cc30-bab3-4ab2-bc03-c8f148da1793",
        "outputId": "22b1ede7-df42-437a-c4d7-0b3a602f9784",
        "colab": {
          "base_uri": "https://localhost:8080/"
        }
      },
      "outputs": [
        {
          "output_type": "execute_result",
          "data": {
            "text/plain": [
              "9691392"
            ]
          },
          "metadata": {},
          "execution_count": 5
        }
      ],
      "source": [
        "id(A)==id(baboon)\n",
        "id(A)"
      ],
      "execution_count": 5
    },
    {
      "cell_type": "markdown",
      "metadata": {
        "id": "cd820ccc-3567-464c-a6ca-f1a98a7dcd08"
      },
      "source": [
        "If we apply the method `copy()</coode>, the memory address is different\n"
      ]
    },
    {
      "cell_type": "code",
      "metadata": {
        "id": "6a0f616b-87f7-4361-be6d-f68237465d4e",
        "outputId": "9daeae54-9ce7-427b-a2c5-4ff3c7123243",
        "colab": {
          "base_uri": "https://localhost:8080/",
          "height": 162
        }
      },
      "outputs": [
        {
          "output_type": "error",
          "ename": "AttributeError",
          "evalue": "'NoneType' object has no attribute 'copy'",
          "traceback": [
            "\u001b[0;31m---------------------------------------------------------------------------\u001b[0m",
            "\u001b[0;31mAttributeError\u001b[0m                            Traceback (most recent call last)",
            "\u001b[0;32m<ipython-input-6-bafe44f0e339>\u001b[0m in \u001b[0;36m<cell line: 0>\u001b[0;34m()\u001b[0m\n\u001b[0;32m----> 1\u001b[0;31m \u001b[0mB\u001b[0m \u001b[0;34m=\u001b[0m \u001b[0mbaboon\u001b[0m\u001b[0;34m.\u001b[0m\u001b[0mcopy\u001b[0m\u001b[0;34m(\u001b[0m\u001b[0;34m)\u001b[0m\u001b[0;34m\u001b[0m\u001b[0;34m\u001b[0m\u001b[0m\n\u001b[0m\u001b[1;32m      2\u001b[0m \u001b[0mid\u001b[0m\u001b[0;34m(\u001b[0m\u001b[0mB\u001b[0m\u001b[0;34m)\u001b[0m\u001b[0;34m==\u001b[0m\u001b[0mid\u001b[0m\u001b[0;34m(\u001b[0m\u001b[0mbaboon\u001b[0m\u001b[0;34m)\u001b[0m\u001b[0;34m\u001b[0m\u001b[0;34m\u001b[0m\u001b[0m\n",
            "\u001b[0;31mAttributeError\u001b[0m: 'NoneType' object has no attribute 'copy'"
          ]
        }
      ],
      "source": [
        "B = baboon.copy()\n",
        "id(B)==id(baboon)"
      ],
      "execution_count": 6
    },
    {
      "cell_type": "markdown",
      "metadata": {
        "id": "91e2e773-7e84-412f-90a2-e6053eb71b6c"
      },
      "source": [
        "When we do not apply the method <code>copy()</code>, the variable will point to the same location in memory. Consider the array <code>baboon</code>, if we set all its values to zero, then all the values in <code>A</code> will be zero. This is because <code>baboon</code> and <code>A</code> point to the same place in memory, but <code>B</code> will not be affected.\n"
      ]
    },
    {
      "cell_type": "code",
      "metadata": {
        "id": "1efa2696-65f8-463f-9e55-0b4ca4183c98"
      },
      "outputs": [],
      "source": [
        "baboon[:,:,] = 100"
      ],
      "execution_count": null
    },
    {
      "cell_type": "code",
      "metadata": {
        "id": "10b1f0ad-db9e-4fdd-ac12-c4c3cadbb8b0"
      },
      "outputs": [],
      "source": [
        "plt.figure(figsize=(10,10))\n",
        "plt.subplot(121)\n",
        "plt.imshow(cv2.cvtColor(baboon, cv2.COLOR_BGR2RGB))\n",
        "plt.title(\"baboon\")\n",
        "plt.subplot(122)\n",
        "plt.imshow(cv2.cvtColor(A, cv2.COLOR_BGR2RGB))\n",
        "plt.title(\"array A\")\n",
        "plt.show()"
      ],
      "execution_count": null
    },
    {
      "cell_type": "markdown",
      "metadata": {
        "id": "2c0438a5-81a2-4d0a-badc-190906201e84"
      },
      "source": [
        "We see they are the same, this is called aliasing. Aliasing happens whenever one variable's value is assigned to another variable because variables are just names that store references to values. We can also compare <code>baboon</code> and array <code>B</code>:\n"
      ]
    },
    {
      "cell_type": "code",
      "metadata": {
        "id": "6f257664-5124-46a2-93f5-f4a3cbaac980"
      },
      "outputs": [],
      "source": [
        "plt.figure(figsize=(10,10))\n",
        "plt.subplot(121)\n",
        "plt.imshow(cv2.cvtColor(baboon, cv2.COLOR_BGR2RGB))\n",
        "plt.title(\"baboon\")\n",
        "plt.subplot(122)\n",
        "plt.imshow(cv2.cvtColor(B, cv2.COLOR_BGR2RGB))\n",
        "plt.title(\"array B\")\n",
        "plt.show()"
      ],
      "execution_count": null
    },
    {
      "cell_type": "markdown",
      "metadata": {
        "id": "d9b0626f-b415-48d5-85c9-59ae1339295c"
      },
      "source": [
        "\n",
        "They are different because they used the method copy.\n"
      ]
    },
    {
      "cell_type": "markdown",
      "metadata": {
        "id": "8329fca7-aff3-4ac8-a236-918ffcb05bc1"
      },
      "source": [
        "## Fliping Images\n"
      ]
    },
    {
      "cell_type": "markdown",
      "metadata": {
        "id": "8ef12008-b4ed-4a95-be7c-f9b6fcee8190"
      },
      "source": [
        "Flipping images involves reordering the index of the pixels such that it changes the orientation of the image. Consider the following image:\n"
      ]
    },
    {
      "cell_type": "code",
      "metadata": {
        "id": "58fae8bb-1e01-45f3-be8c-7a6cf55dbd62",
        "outputId": "2b1eacb7-4d66-425a-ddd8-f09b1eb23d14",
        "colab": {
          "base_uri": "https://localhost:8080/",
          "height": 216
        }
      },
      "outputs": [
        {
          "output_type": "error",
          "ename": "error",
          "evalue": "OpenCV(4.11.0) /io/opencv/modules/imgproc/src/color.cpp:199: error: (-215:Assertion failed) !_src.empty() in function 'cvtColor'\n",
          "traceback": [
            "\u001b[0;31m---------------------------------------------------------------------------\u001b[0m",
            "\u001b[0;31merror\u001b[0m                                     Traceback (most recent call last)",
            "\u001b[0;32m<ipython-input-8-62850870f07f>\u001b[0m in \u001b[0;36m<cell line: 0>\u001b[0;34m()\u001b[0m\n\u001b[1;32m      1\u001b[0m \u001b[0mimage\u001b[0m \u001b[0;34m=\u001b[0m \u001b[0mcv2\u001b[0m\u001b[0;34m.\u001b[0m\u001b[0mimread\u001b[0m\u001b[0;34m(\u001b[0m\u001b[0;34m\"cat.png\"\u001b[0m\u001b[0;34m)\u001b[0m\u001b[0;34m\u001b[0m\u001b[0;34m\u001b[0m\u001b[0m\n\u001b[1;32m      2\u001b[0m \u001b[0mplt\u001b[0m\u001b[0;34m.\u001b[0m\u001b[0mfigure\u001b[0m\u001b[0;34m(\u001b[0m\u001b[0mfigsize\u001b[0m\u001b[0;34m=\u001b[0m\u001b[0;34m(\u001b[0m\u001b[0;36m10\u001b[0m\u001b[0;34m,\u001b[0m\u001b[0;36m10\u001b[0m\u001b[0;34m)\u001b[0m\u001b[0;34m)\u001b[0m\u001b[0;34m\u001b[0m\u001b[0;34m\u001b[0m\u001b[0m\n\u001b[0;32m----> 3\u001b[0;31m \u001b[0mplt\u001b[0m\u001b[0;34m.\u001b[0m\u001b[0mimshow\u001b[0m\u001b[0;34m(\u001b[0m\u001b[0mcv2\u001b[0m\u001b[0;34m.\u001b[0m\u001b[0mcvtColor\u001b[0m\u001b[0;34m(\u001b[0m\u001b[0mimage\u001b[0m\u001b[0;34m,\u001b[0m \u001b[0mcv2\u001b[0m\u001b[0;34m.\u001b[0m\u001b[0mCOLOR_BGR2RGB\u001b[0m\u001b[0;34m)\u001b[0m\u001b[0;34m)\u001b[0m\u001b[0;34m\u001b[0m\u001b[0;34m\u001b[0m\u001b[0m\n\u001b[0m\u001b[1;32m      4\u001b[0m \u001b[0mplt\u001b[0m\u001b[0;34m.\u001b[0m\u001b[0mshow\u001b[0m\u001b[0;34m(\u001b[0m\u001b[0;34m)\u001b[0m\u001b[0;34m\u001b[0m\u001b[0;34m\u001b[0m\u001b[0m\n",
            "\u001b[0;31merror\u001b[0m: OpenCV(4.11.0) /io/opencv/modules/imgproc/src/color.cpp:199: error: (-215:Assertion failed) !_src.empty() in function 'cvtColor'\n"
          ]
        },
        {
          "output_type": "display_data",
          "data": {
            "text/plain": [
              "<Figure size 1000x1000 with 0 Axes>"
            ]
          },
          "metadata": {}
        }
      ],
      "source": [
        "image = cv2.imread(\"cat.png\")\n",
        "plt.figure(figsize=(10,10))\n",
        "plt.imshow(cv2.cvtColor(image, cv2.COLOR_BGR2RGB))\n",
        "plt.show()"
      ],
      "execution_count": 8
    },
    {
      "cell_type": "markdown",
      "metadata": {
        "id": "19c04c23-ffd5-489a-afa5-1db59cf1f406"
      },
      "source": [
        "We can cast it to an array and find the shape:\n"
      ]
    },
    {
      "cell_type": "code",
      "metadata": {
        "id": "6b607467-e4cc-4aa6-b390-fcd467550080"
      },
      "outputs": [],
      "source": [
        "width, height,C=image.shape\n",
        "print('width, height,C',width, height,C)"
      ],
      "execution_count": null
    },
    {
      "cell_type": "markdown",
      "metadata": {
        "id": "df779170-ed6d-4a4b-ad4e-d8b8f0848374"
      },
      "source": [
        "Let's Flip i.e rotate it vertically. First, we create an array of equal size of type <code>np.uint8</code> bit image.\n"
      ]
    },
    {
      "cell_type": "code",
      "metadata": {
        "id": "342c91c5-98a3-41d5-a64f-4fa7fa7c6422"
      },
      "outputs": [],
      "source": [
        "array_flip = np.zeros((width, height,C),dtype=np.uint8)"
      ],
      "execution_count": null
    },
    {
      "cell_type": "markdown",
      "metadata": {
        "id": "f9c652c7-29ed-46e3-b886-f902a4ed7f53"
      },
      "source": [
        "We assign the first row of pixels of the original array to the new array's last row. We repeat the process for every row, incrementing the row number for the original array and decreasing the new array's row index assigning the pixels accordingly.\n"
      ]
    },
    {
      "cell_type": "code",
      "metadata": {
        "id": "81acbae0-503e-4b39-b098-cc102f5d75d9"
      },
      "outputs": [],
      "source": [
        "for i,row in enumerate(image):\n",
        "        array_flip[width-1-i,:,:]=row"
      ],
      "execution_count": null
    },
    {
      "cell_type": "markdown",
      "metadata": {
        "id": "42160ac9-2557-4474-b68e-e859e33f7aeb"
      },
      "source": [
        "We plot the results\n"
      ]
    },
    {
      "cell_type": "code",
      "metadata": {
        "id": "fe4e4445-a65a-414a-b0ce-9ef6f4e9e5ec"
      },
      "outputs": [],
      "source": [
        "plt.figure(figsize=(5,5))\n",
        "plt.imshow(cv2.cvtColor(array_flip, cv2.COLOR_BGR2RGB))\n",
        "plt.show()"
      ],
      "execution_count": null
    },
    {
      "cell_type": "markdown",
      "metadata": {
        "id": "d66c3e78-c3dd-4b31-901d-6e78caf69bfc"
      },
      "source": [
        "<code>OpenCV</code>has several ways to flip an image, we can use  the <code>flip()</code> function; we have the input image array. The parameter is the <code>flipCode</code>\n",
        "\n",
        "is the value indicating what kind of flip we would like to perform;\n",
        "<li><code>flipcode</code> = 0: flip vertically around the x-axis</li>\n",
        "<li><code>flipcode</code> > 0: flip horizontally around y-axis positive value</li>\n",
        "<li><code>flipcode</code>&#60 0: flip vertically and horizontally, flipping around both axes negative value</li>\n",
        "Let apply different <code>flipcode</code>'s in a loop:\n"
      ]
    },
    {
      "cell_type": "code",
      "metadata": {
        "id": "4554ef23-f8d2-4061-bf73-54a10ddcc69e"
      },
      "outputs": [],
      "source": [
        "for flipcode in [0,1,-1]:\n",
        "    im_flip =  cv2.flip(image,flipcode )\n",
        "    plt.imshow(cv2.cvtColor(im_flip,cv2.COLOR_BGR2RGB))\n",
        "    plt.title(\"flipcode: \"+str(flipcode))\n",
        "    plt.show()"
      ],
      "execution_count": null
    },
    {
      "cell_type": "markdown",
      "metadata": {
        "id": "dc4205f0-683b-4f46-a70d-83215be3c35e"
      },
      "source": [
        "We can also use the <code>rotate()</code> function. The parameter is an integer indicating what kind of flip we would like to perform.\n"
      ]
    },
    {
      "cell_type": "code",
      "metadata": {
        "id": "9b417ee6-2530-489d-b165-7d5641da05fa"
      },
      "outputs": [],
      "source": [
        "im_flip = cv2.rotate(image,0)\n",
        "plt.imshow(cv2.cvtColor(im_flip,cv2.COLOR_BGR2RGB))\n",
        "plt.show()"
      ],
      "execution_count": null
    },
    {
      "cell_type": "markdown",
      "metadata": {
        "id": "767b3df9-8839-4c06-a202-6edfeb2a876f"
      },
      "source": [
        "OpenCV module has built-in attributes the describe the type of flip, the values are just integers. Several are shown in the following <code>dict</code>:\n"
      ]
    },
    {
      "cell_type": "code",
      "metadata": {
        "id": "c3bc8141-8d7f-4e84-9788-d40e94f6cc97"
      },
      "outputs": [],
      "source": [
        "flip = {\"ROTATE_90_CLOCKWISE\":cv2.ROTATE_90_CLOCKWISE,\"ROTATE_90_COUNTERCLOCKWISE\":cv2.ROTATE_90_COUNTERCLOCKWISE,\"ROTATE_180\":cv2.ROTATE_180}"
      ],
      "execution_count": null
    },
    {
      "cell_type": "markdown",
      "metadata": {
        "id": "cdf2ddb3-885a-42f4-affd-d490628e2080"
      },
      "source": [
        "We see the keys are just an integer\n"
      ]
    },
    {
      "cell_type": "code",
      "metadata": {
        "id": "61bf1039-a9bf-4076-b321-7c44072468df"
      },
      "outputs": [],
      "source": [
        "flip[\"ROTATE_90_CLOCKWISE\"]"
      ],
      "execution_count": null
    },
    {
      "cell_type": "markdown",
      "metadata": {
        "id": "0956c7b2-988b-4236-9823-c40818277043"
      },
      "source": [
        "We can plot each of the outputs using the different  parameter values\n"
      ]
    },
    {
      "cell_type": "code",
      "metadata": {
        "id": "347e6b09-57e8-40c5-94d7-0d8441d55212"
      },
      "outputs": [],
      "source": [
        "for key, value in flip.items():\n",
        "    plt.subplot(1,2,1)\n",
        "    plt.imshow(cv2.cvtColor(image, cv2.COLOR_BGR2RGB))\n",
        "    plt.title(\"orignal\")\n",
        "    plt.subplot(1,2,2)\n",
        "    plt.imshow(cv2.cvtColor(cv2.rotate(image,value), cv2.COLOR_BGR2RGB))\n",
        "    plt.title(key)\n",
        "    plt.show()"
      ],
      "execution_count": null
    },
    {
      "cell_type": "markdown",
      "metadata": {
        "id": "2771d3c6-5e55-4824-8e61-e11d4d8041af"
      },
      "source": [
        " ## Cropping an Image\n"
      ]
    },
    {
      "cell_type": "markdown",
      "metadata": {
        "id": "f0ad0ccb-0f15-41ce-aec8-1b15071f77cc"
      },
      "source": [
        "Cropping is \"cutting out\" the part of the image and throwing out the rest; we can crop using arrays. Let start with a vertical crop; the variable <code>upper</code> is the first row that we would like to include in the image, the variable <code>lower</code> is the last row we would like to include. We then use slicing to obtain the new image.\n"
      ]
    },
    {
      "cell_type": "code",
      "metadata": {
        "id": "a27a25b4-8ff0-4509-bec3-2f82d8653863"
      },
      "outputs": [],
      "source": [
        "upper = 150\n",
        "lower = 400\n",
        "crop_top = image[upper: lower,:,:]\n",
        "plt.figure(figsize=(10,10))\n",
        "plt.imshow(cv2.cvtColor(crop_top, cv2.COLOR_BGR2RGB))\n",
        "plt.show()"
      ],
      "execution_count": null
    },
    {
      "cell_type": "markdown",
      "metadata": {
        "id": "b67d6d76-ea31-4829-a627-1015284a24b5"
      },
      "source": [
        "consider the array <code>crop_top</code> we  can also crop horizontally  the variable right is the first column that we would like to include in the image, the variable left is the last column we would like to include in the image.\n"
      ]
    },
    {
      "cell_type": "code",
      "metadata": {
        "id": "fcfde7e1-df90-42f2-a957-f3b05862a8f2"
      },
      "outputs": [],
      "source": [
        "left = 150\n",
        "right = 400\n",
        "crop_horizontal = crop_top[: ,left:right,:]\n",
        "plt.figure(figsize=(5,5))\n",
        "plt.imshow(cv2.cvtColor(crop_horizontal, cv2.COLOR_BGR2RGB))\n",
        "plt.show()"
      ],
      "execution_count": null
    },
    {
      "cell_type": "markdown",
      "metadata": {
        "id": "bd82fa19-62af-45c8-894f-1a9a8729b7e1"
      },
      "source": [
        "## Changing Specific Image Pixels\n"
      ]
    },
    {
      "cell_type": "markdown",
      "metadata": {
        "id": "c36b32e8-0c77-4f74-bdfa-908dcff09732"
      },
      "source": [
        "We can change specific image pixels using  array indexing; for example, we can set  all the channels in the original image we cropped to zero :\n"
      ]
    },
    {
      "cell_type": "code",
      "metadata": {
        "id": "9ddad9fd-4b64-44e7-ae5f-b001b7ef0a3a"
      },
      "outputs": [],
      "source": [
        "array_sq = np.copy(image)\n",
        "array_sq[upper:lower,left:right,:] = 0"
      ],
      "execution_count": null
    },
    {
      "cell_type": "markdown",
      "metadata": {
        "id": "de47e441-ef54-4de9-bfaa-099293d0ebf8"
      },
      "source": [
        "We can compare the results to the new image.\n"
      ]
    },
    {
      "cell_type": "code",
      "metadata": {
        "id": "78a42689-506e-446d-9475-0308fbefd79c"
      },
      "outputs": [],
      "source": [
        "plt.figure(figsize=(10,10))\n",
        "plt.subplot(1,2,1)\n",
        "plt.imshow(cv2.cvtColor(image,cv2.COLOR_BGR2RGB))\n",
        "plt.title(\"orignal\")\n",
        "plt.subplot(1,2,2)\n",
        "plt.imshow(cv2.cvtColor(array_sq,cv2.COLOR_BGR2RGB))\n",
        "plt.title(\"Altered Image\")\n",
        "plt.show()"
      ],
      "execution_count": null
    },
    {
      "cell_type": "markdown",
      "metadata": {
        "id": "4164e6bf-8d56-4878-b3bf-e42bd1755710"
      },
      "source": [
        "  We can also create shapes and <code>OpenCV</code>, we can use the method <code>rectangle</code>. The parameter  <code>pt1</code> is the top-left coordinate of the rectangle: <code>(left,top)</code> or $(x_0,y_0)$, <code>pt2</code> is the bottom right coordinate<code>(right,lower)</code> or $(x_1,y_1)$. The parameter <code>color</code>  is a tuple representing the intensity of each channel <code>( blue, green, red)</code>. Finally, we have the line thickness.\n"
      ]
    },
    {
      "cell_type": "code",
      "metadata": {
        "id": "9207fa6b-b719-410f-ab32-b9f42daa580d"
      },
      "outputs": [],
      "source": [
        "start_point, end_point = (left, upper),(right, lower)\n",
        "image_draw = np.copy(image)\n",
        "cv2.rectangle(image_draw, pt1=start_point, pt2=end_point, color=(0, 255, 0), thickness=3)\n",
        "plt.figure(figsize=(5,5))\n",
        "plt.imshow(cv2.cvtColor(image_draw, cv2.COLOR_BGR2RGB))\n",
        "plt.show()"
      ],
      "execution_count": null
    },
    {
      "cell_type": "markdown",
      "metadata": {
        "id": "fb30943e-6290-41e9-9526-395e524d4c12"
      },
      "source": [
        "We can overlay text on an image using the function  <code>putText</code> with the following parameter values:\n"
      ]
    },
    {
      "cell_type": "markdown",
      "metadata": {
        "id": "8544ef05-695f-415a-83d0-c50a25cdf3b7"
      },
      "source": [
        "\n",
        " <li><code>img</code>: Image array </li>\n",
        "<li><code>text</code>: Text string to be overlayed</li>\n",
        "<li><code>org</code>: Bottom-left corner of the text string in the image</li>\n",
        "<li><code>fontFace</code>: tye type of font </li>\n",
        "<li><code>fontScale</code>: Font scale</li>\n",
        "<li><code>color</code>: Text color</li>\n",
        "<li><code>thickness</code>: Thickness of the lines used to draw a text</li>\n",
        "<li><code>lineType:</code> Line type</li>\n"
      ]
    },
    {
      "cell_type": "code",
      "metadata": {
        "id": "a2a75c09-3969-4b8c-b01b-a9596fe883e8"
      },
      "outputs": [],
      "source": [
        "image_draw=cv2.putText(img=image,text='Stuff',org=(10,500),color=(255,255,255),fontFace=4,fontScale=5,thickness=2)\n",
        "plt.figure(figsize=(10,10))\n",
        "plt.imshow(cv2.cvtColor(image_draw,cv2.COLOR_BGR2RGB))\n",
        "plt.show()"
      ],
      "execution_count": null
    },
    {
      "cell_type": "markdown",
      "metadata": {
        "id": "827dd1d4-90bf-4d1b-bc6c-248f7b4b8650"
      },
      "source": [
        "### Homework Question:\n",
        "Use the image baboon.png from this lab or take any image you like.\n",
        "\n",
        "Open the image and create a OpenCV Image object called `im`, convert the image from BGR format to RGB format, flip `im` vertically around the x-axis and create an image called `im_flip`, mirror `im` by flipping it horizontally around the y-axis and create an image called `im_mirror`, finally plot both images\n"
      ]
    },
    {
      "cell_type": "code",
      "metadata": {
        "id": "02f8ef80-8a98-4899-a969-7f7418ff1975",
        "outputId": "0a200c7b-a9cd-45a6-c6d0-08d7fb0d9608",
        "colab": {
          "base_uri": "https://localhost:8080/",
          "height": 378
        }
      },
      "outputs": [
        {
          "output_type": "execute_result",
          "data": {
            "text/plain": [
              "<matplotlib.image.AxesImage at 0x7e79d5557fd0>"
            ]
          },
          "metadata": {},
          "execution_count": 17
        },
        {
          "output_type": "display_data",
          "data": {
            "text/plain": [
              "<Figure size 640x480 with 1 Axes>"
            ],
            "image/png": "[encoded data removed]"
          },
          "metadata": {}
        }
      ],
      "source": [
        "# write your code here\n",
        "from skimage import io as io_url\n",
        "\n",
        "# load image and create img obj called frame\n",
        "frame = io_url.imread('https://www.farmingdale.edu/marketing-communications/images/branding-guidelines/fsc-ram-600x356.png')\n",
        "frame = np.float32(frame) / 255\n",
        "\n",
        "# convert from BGR --> RGB format\n",
        "frame_rgb = cv2.cvtColor(frame, cv2.COLOR_BGR2RGB)\n",
        "\n",
        "# flip image vertically around x-axis\n",
        "frame_flip = cv2.flip(frame_rgb, 0)\n",
        "\n",
        "# mirror the image by flipping horizontally around y-axis\n",
        "frame_mirror = cv2.flip(frame_rgb, 1)\n",
        "\n",
        "# show both images, comment one out bc imshow() overwrites previous img\n",
        "plt.imshow(frame_flip)\n",
        "plt.imshow(frame_mirror)"
      ],
      "execution_count": 17
    },
    {
      "cell_type": "markdown",
      "metadata": {
        "id": "fc69c644-08ad-4017-9ae0-10037377e590"
      },
      "source": [
        "<!--<h2>Change Log</h2>-->\n"
      ]
    },
    {
      "cell_type": "markdown",
      "metadata": {
        "id": "61471329-9df9-40b8-854a-38b58b2667ba"
      },
      "source": []
    }
  ],
  "metadata": {
    "kernelspec": {
      "display_name": "Python",
      "language": "python",
      "name": "conda-env-python-py"
    },
    "language_info": {
      "name": "python",
      "version": "3.7.12",
      "mimetype": "text/x-python",
      "codemirror_mode": {
        "name": "ipython",
        "version": 3
      },
      "pygments_lexer": "ipython3",
      "nbconvert_exporter": "python",
      "file_extension": ".py"
    },
    "prev_pub_hash": "6a90ffb7aed50528984281a7d2d8fb05d3512961684d2f4d202df1f92b7955c1",
    "colab": {
      "provenance": []
    }
  },
  "nbformat": 4,
  "nbformat_minor": 0
}